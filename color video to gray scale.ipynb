{
  "nbformat": 4,
  "nbformat_minor": 0,
  "metadata": {
    "colab": {
      "provenance": [],
      "authorship_tag": "ABX9TyOSAKVv4peB5CLdEDhjTG4Q",
      "include_colab_link": true
    },
    "kernelspec": {
      "name": "python3",
      "display_name": "Python 3"
    },
    "language_info": {
      "name": "python"
    }
  },
  "cells": [
    {
      "cell_type": "markdown",
      "metadata": {
        "id": "view-in-github",
        "colab_type": "text"
      },
      "source": [
        "<a href=\"https://colab.research.google.com/github/sheetal051/Thaper-Summer-School-OpenCV/blob/main/color%20video%20to%20gray%20scale.ipynb\" target=\"_parent\"><img src=\"https://colab.research.google.com/assets/colab-badge.svg\" alt=\"Open In Colab\"/></a>"
      ]
    },
    {
      "cell_type": "markdown",
      "source": [
        "---\n",
        "###**Convert Colored Video to Grey Scale (b/w)\" using OpenCV**\n",
        "---"
      ],
      "metadata": {
        "id": "7pWmWPIFySM3"
      }
    },
    {
      "cell_type": "code",
      "execution_count": 1,
      "metadata": {
        "colab": {
          "base_uri": "https://localhost:8080/"
        },
        "id": "Jwc0nfO9yHrW",
        "outputId": "1a17d15f-2d3d-4901-cd13-e3f8e4f0039c"
      },
      "outputs": [
        {
          "output_type": "stream",
          "name": "stdout",
          "text": [
            "Requirement already satisfied: opencv-python in /usr/local/lib/python3.11/dist-packages (4.11.0.86)\n",
            "Requirement already satisfied: numpy>=1.21.2 in /usr/local/lib/python3.11/dist-packages (from opencv-python) (2.0.2)\n"
          ]
        }
      ],
      "source": [
        "pip install opencv-python\n"
      ]
    },
    {
      "cell_type": "code",
      "source": [
        "import cv2\n",
        "\n",
        "# Load the input color video\n",
        "input_path = '/content/input_video.mp4'\n",
        "cap = cv2.VideoCapture(input_path)\n",
        "\n",
        "# Get video properties\n",
        "width  = int(cap.get(cv2.CAP_PROP_FRAME_WIDTH))\n",
        "height = int(cap.get(cv2.CAP_PROP_FRAME_HEIGHT))\n",
        "fps    = cap.get(cv2.CAP_PROP_FPS)\n",
        "fourcc = cv2.VideoWriter_fourcc(*'mp4v')\n",
        "\n",
        "# Create VideoWriters for grayscale and color output\n",
        "gray_output = cv2.VideoWriter('output_grayscale.mp4', fourcc, fps, (width, height), isColor=False)\n",
        "color_output = cv2.VideoWriter('output_color.mp4', fourcc, fps, (width, height), isColor=True)\n",
        "\n",
        "while cap.isOpened():\n",
        "    ret, frame = cap.read()\n",
        "    if not ret:\n",
        "        break\n",
        "\n",
        "    # Write original color frame to color video\n",
        "    color_output.write(frame)\n",
        "\n",
        "    # Convert to grayscale\n",
        "    gray = cv2.cvtColor(frame, cv2.COLOR_BGR2GRAY)\n",
        "\n",
        "    # Write grayscale frame\n",
        "    gray_output.write(gray)\n",
        "\n",
        "# Release everything\n",
        "cap.release()\n",
        "gray_output.release()\n",
        "color_output.release()\n",
        "cv2.destroyAllWindows()\n"
      ],
      "metadata": {
        "id": "OEdmto4L1PAE"
      },
      "execution_count": 3,
      "outputs": []
    }
  ]
}