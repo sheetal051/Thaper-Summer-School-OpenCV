{
  "nbformat": 4,
  "nbformat_minor": 0,
  "metadata": {
    "colab": {
      "provenance": [],
      "authorship_tag": "ABX9TyOFjkxIFS5p86x7mUhRikzD",
      "include_colab_link": true
    },
    "kernelspec": {
      "name": "python3",
      "display_name": "Python 3"
    },
    "language_info": {
      "name": "python"
    }
  },
  "cells": [
    {
      "cell_type": "markdown",
      "metadata": {
        "id": "view-in-github",
        "colab_type": "text"
      },
      "source": [
        "<a href=\"https://colab.research.google.com/github/sheetal051/Thaper-Summer-School-OpenCV/blob/main/Resize%20Video.ipynb\" target=\"_parent\"><img src=\"https://colab.research.google.com/assets/colab-badge.svg\" alt=\"Open In Colab\"/></a>"
      ]
    },
    {
      "cell_type": "markdown",
      "source": [
        "---\n",
        "###**Resize the Colored Video to 50% (smaller)\" using OpenCV**\n",
        "---"
      ],
      "metadata": {
        "id": "7pWmWPIFySM3"
      }
    },
    {
      "cell_type": "code",
      "source": [
        "import cv2\n",
        "\n",
        "# Load the input video\n",
        "input_path = '/content/input_video.mp4'\n",
        "cap = cv2.VideoCapture(input_path)\n",
        "\n",
        "# Get original video properties\n",
        "original_width  = int(cap.get(cv2.CAP_PROP_FRAME_WIDTH))\n",
        "original_height = int(cap.get(cv2.CAP_PROP_FRAME_HEIGHT))\n",
        "fps = cap.get(cv2.CAP_PROP_FPS)\n",
        "fourcc = cv2.VideoWriter_fourcc(*'mp4v')\n",
        "\n",
        "# New dimensions (50% smaller)\n",
        "new_width = original_width // 2\n",
        "new_height = original_height // 2\n",
        "\n",
        "# Create VideoWriter for resized video\n",
        "resized_output = cv2.VideoWriter('resized_video.mp4', fourcc, fps, (new_width, new_height))\n",
        "\n",
        "while cap.isOpened():\n",
        "    ret, frame = cap.read()\n",
        "    if not ret:\n",
        "        break\n",
        "\n",
        "    # Resize the frame\n",
        "    resized_frame = cv2.resize(frame, (new_width, new_height))\n",
        "\n",
        "    # Write resized frame to output video\n",
        "    resized_output.write(resized_frame)\n",
        "\n",
        "# Release resources\n",
        "cap.release()\n",
        "resized_output.release()\n",
        "cv2.destroyAllWindows()\n"
      ],
      "metadata": {
        "id": "Wi2Tt7zR30Kn"
      },
      "execution_count": 4,
      "outputs": []
    }
  ]
}