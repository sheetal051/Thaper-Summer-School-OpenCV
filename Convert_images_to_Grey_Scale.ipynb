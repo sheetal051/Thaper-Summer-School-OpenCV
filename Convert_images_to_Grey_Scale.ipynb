{
  "nbformat": 4,
  "nbformat_minor": 0,
  "metadata": {
    "colab": {
      "provenance": [],
      "authorship_tag": "ABX9TyN4g/s86QLunblEDLUHLGH8",
      "include_colab_link": true
    },
    "kernelspec": {
      "name": "python3",
      "display_name": "Python 3"
    },
    "language_info": {
      "name": "python"
    }
  },
  "cells": [
    {
      "cell_type": "markdown",
      "metadata": {
        "id": "view-in-github",
        "colab_type": "text"
      },
      "source": [
        "<a href=\"https://colab.research.google.com/github/sheetal051/Thaper-Summer-School-OpenCV/blob/main/Convert_images_to_Grey_Scale.ipynb\" target=\"_parent\"><img src=\"https://colab.research.google.com/assets/colab-badge.svg\" alt=\"Open In Colab\"/></a>"
      ]
    },
    {
      "cell_type": "markdown",
      "source": [
        "---\n",
        "###**Convert 100 images to Grey Scale (b/w)\" using OpenCV**\n",
        "---"
      ],
      "metadata": {
        "id": "Jl-ybGMaaqm6"
      }
    },
    {
      "cell_type": "code",
      "source": [
        "import cv2\n",
        "import numpy as np\n",
        "import os"
      ],
      "metadata": {
        "id": "frW5KXcxq-ca"
      },
      "execution_count": 16,
      "outputs": []
    },
    {
      "cell_type": "code",
      "source": [
        "pip install opencv-python numpy\n"
      ],
      "metadata": {
        "colab": {
          "base_uri": "https://localhost:8080/"
        },
        "id": "20aGaT9urEb9",
        "outputId": "ecfcd6c2-e8ad-4a66-8119-464d112e2f1e"
      },
      "execution_count": 17,
      "outputs": [
        {
          "output_type": "stream",
          "name": "stdout",
          "text": [
            "Requirement already satisfied: opencv-python in /usr/local/lib/python3.11/dist-packages (4.11.0.86)\n",
            "Requirement already satisfied: numpy in /usr/local/lib/python3.11/dist-packages (2.0.2)\n"
          ]
        }
      ]
    },
    {
      "cell_type": "code",
      "source": [
        "# Create a folder to save grayscale images\n",
        "output_folder = 'grayscale_images'\n",
        "os.makedirs(output_folder, exist_ok=True)\n",
        "\n",
        "# Generate and process 100 images\n",
        "for i in range(100):\n",
        "    # Generate a random color image (256x256 pixels, 3 channels)\n",
        "    color_image = np.random.randint(0, 256, (256, 256, 3), dtype=np.uint8)\n",
        "\n",
        "    # Convert the color image to grayscale\n",
        "    gray_image = cv2.cvtColor(color_image, cv2.COLOR_BGR2GRAY)\n",
        "\n",
        "    # Save the grayscale image\n",
        "    filename = f\"gray_image_{i+1:03d}.png\"\n",
        "    cv2.imwrite(os.path.join(output_folder, filename), gray_image)\n",
        "\n",
        "print(\"100 grayscale images saved in the 'grayscale_images' folder.\")"
      ],
      "metadata": {
        "colab": {
          "base_uri": "https://localhost:8080/"
        },
        "id": "gDfk8zIorHvA",
        "outputId": "9bb1feec-9dc1-44e3-c638-44a7b4e8a08a"
      },
      "execution_count": 18,
      "outputs": [
        {
          "output_type": "stream",
          "name": "stdout",
          "text": [
            "100 grayscale images saved in the 'grayscale_images' folder.\n"
          ]
        }
      ]
    }
  ]
}