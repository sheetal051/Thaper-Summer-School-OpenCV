{
  "nbformat": 4,
  "nbformat_minor": 0,
  "metadata": {
    "colab": {
      "provenance": [],
      "authorship_tag": "ABX9TyOHLK2Xos9uCsz1s+UYkkQ/",
      "include_colab_link": true
    },
    "kernelspec": {
      "name": "python3",
      "display_name": "Python 3"
    },
    "language_info": {
      "name": "python"
    }
  },
  "cells": [
    {
      "cell_type": "markdown",
      "metadata": {
        "id": "view-in-github",
        "colab_type": "text"
      },
      "source": [
        "<a href=\"https://colab.research.google.com/github/sheetal051/Thaper-Summer-School-OpenCV/blob/main/resize_image.ipynb\" target=\"_parent\"><img src=\"https://colab.research.google.com/assets/colab-badge.svg\" alt=\"Open In Colab\"/></a>"
      ]
    },
    {
      "cell_type": "markdown",
      "source": [
        "---\n",
        "###**Resize the 100 images to 50% (smaller)\" using OpenCV**\n",
        "---"
      ],
      "metadata": {
        "id": "bEgqPYRCwVjW"
      }
    },
    {
      "cell_type": "code",
      "execution_count": 1,
      "metadata": {
        "id": "sT3LWzoQwRXZ"
      },
      "outputs": [],
      "source": [
        "import requests\n",
        "import os\n",
        "import cv2\n",
        "import numpy as np"
      ]
    },
    {
      "cell_type": "code",
      "source": [
        "# Create folders\n",
        "original_folder = \"original_cat_images\"\n",
        "resized_folder = \"resized_cat_images\"\n",
        "os.makedirs(original_folder, exist_ok=True)\n",
        "os.makedirs(resized_folder, exist_ok=True)\n",
        "\n",
        "# Download and resize 100 cat images\n",
        "for i in range(100):\n",
        "    # Fetch cat image URL from API\n",
        "    try:\n",
        "        response = requests.get(\"https://api.thecatapi.com/v1/images/search\")\n",
        "        image_url = response.json()[0]['url']\n",
        "        file_ext = image_url.split('.')[-1].split('?')[0]\n",
        "        filename = f\"cat_{i+1:03d}.{file_ext}\"\n",
        "        file_path = os.path.join(original_folder, filename)\n",
        "\n",
        "        # Download the image\n",
        "        img_data = requests.get(image_url).content\n",
        "        with open(file_path, 'wb') as f:\n",
        "            f.write(img_data)\n",
        "\n",
        "        # Read and resize image\n",
        "        img_array = cv2.imdecode(np.frombuffer(img_data, np.uint8), cv2.IMREAD_COLOR)\n",
        "        if img_array is not None:\n",
        "            height, width = img_array.shape[:2]\n",
        "            resized = cv2.resize(img_array, (width // 2, height // 2), interpolation=cv2.INTER_AREA)\n",
        "\n",
        "            # Save resized image\n",
        "            resized_path = os.path.join(resized_folder, filename)\n",
        "            cv2.imwrite(resized_path, resized)\n",
        "            print(f\"Processed: {filename}\")\n",
        "        else:\n",
        "            print(f\"Skipped unreadable image: {filename}\")\n",
        "\n",
        "    except Exception as e:\n",
        "        print(f\"Error on image {i+1}: {e}\")\n",
        "\n",
        "print(\"All 100 cat images downloaded and resized.\")"
      ],
      "metadata": {
        "colab": {
          "base_uri": "https://localhost:8080/"
        },
        "id": "tuhbNFUrwhRA",
        "outputId": "4f577ddf-1b94-4e69-9b16-0b35e0037bff"
      },
      "execution_count": 2,
      "outputs": [
        {
          "output_type": "stream",
          "name": "stdout",
          "text": [
            "Processed: cat_001.jpg\n",
            "Processed: cat_002.jpg\n",
            "Processed: cat_003.jpg\n",
            "Processed: cat_004.jpg\n",
            "Processed: cat_005.jpg\n",
            "Processed: cat_006.jpg\n",
            "Processed: cat_007.jpg\n",
            "Processed: cat_008.jpg\n",
            "Processed: cat_009.jpg\n",
            "Processed: cat_010.jpg\n",
            "Processed: cat_011.jpg\n",
            "Processed: cat_012.jpg\n",
            "Processed: cat_013.jpg\n",
            "Processed: cat_014.jpg\n",
            "Processed: cat_015.jpg\n",
            "Processed: cat_016.jpg\n",
            "Processed: cat_017.jpg\n",
            "Processed: cat_018.jpg\n",
            "Processed: cat_019.jpg\n",
            "Processed: cat_020.jpg\n",
            "Processed: cat_021.jpg\n",
            "Skipped unreadable image: cat_022.gif\n",
            "Processed: cat_023.jpg\n",
            "Processed: cat_024.jpg\n",
            "Processed: cat_025.jpg\n",
            "Processed: cat_026.jpg\n",
            "Processed: cat_027.jpg\n",
            "Processed: cat_028.jpg\n",
            "Processed: cat_029.jpg\n",
            "Skipped unreadable image: cat_030.gif\n",
            "Processed: cat_031.jpg\n",
            "Skipped unreadable image: cat_032.gif\n",
            "Processed: cat_033.jpg\n",
            "Processed: cat_034.jpg\n",
            "Processed: cat_035.png\n",
            "Processed: cat_036.jpg\n",
            "Processed: cat_037.jpg\n",
            "Processed: cat_038.jpg\n",
            "Processed: cat_039.jpg\n",
            "Processed: cat_040.jpg\n",
            "Processed: cat_041.png\n",
            "Processed: cat_042.jpg\n",
            "Processed: cat_043.jpg\n",
            "Processed: cat_044.jpg\n",
            "Processed: cat_045.jpg\n",
            "Skipped unreadable image: cat_046.gif\n",
            "Processed: cat_047.jpg\n",
            "Processed: cat_048.jpg\n",
            "Processed: cat_049.jpg\n",
            "Processed: cat_050.jpg\n",
            "Skipped unreadable image: cat_051.gif\n",
            "Processed: cat_052.jpg\n",
            "Processed: cat_053.jpg\n",
            "Processed: cat_054.jpg\n",
            "Processed: cat_055.jpg\n",
            "Processed: cat_056.jpg\n",
            "Processed: cat_057.jpg\n",
            "Processed: cat_058.jpg\n",
            "Processed: cat_059.jpg\n",
            "Processed: cat_060.jpg\n",
            "Processed: cat_061.jpg\n",
            "Processed: cat_062.jpg\n",
            "Processed: cat_063.jpg\n",
            "Processed: cat_064.jpg\n",
            "Processed: cat_065.jpg\n",
            "Processed: cat_066.jpg\n",
            "Processed: cat_067.jpg\n",
            "Skipped unreadable image: cat_068.gif\n",
            "Processed: cat_069.jpg\n",
            "Skipped unreadable image: cat_070.gif\n",
            "Processed: cat_071.jpg\n",
            "Processed: cat_072.jpg\n",
            "Processed: cat_073.jpg\n",
            "Processed: cat_074.png\n",
            "Processed: cat_075.jpg\n",
            "Processed: cat_076.jpg\n",
            "Processed: cat_077.jpg\n",
            "Processed: cat_078.jpg\n",
            "Processed: cat_079.jpg\n",
            "Processed: cat_080.jpg\n",
            "Processed: cat_081.jpg\n",
            "Skipped unreadable image: cat_082.gif\n",
            "Processed: cat_083.jpg\n",
            "Processed: cat_084.jpg\n",
            "Processed: cat_085.jpg\n",
            "Processed: cat_086.jpg\n",
            "Processed: cat_087.jpg\n",
            "Processed: cat_088.jpg\n",
            "Processed: cat_089.jpg\n",
            "Processed: cat_090.jpg\n",
            "Processed: cat_091.jpg\n",
            "Processed: cat_092.jpg\n",
            "Processed: cat_093.jpg\n",
            "Processed: cat_094.jpg\n",
            "Processed: cat_095.jpg\n",
            "Processed: cat_096.jpg\n",
            "Processed: cat_097.jpg\n",
            "Processed: cat_098.jpg\n",
            "Processed: cat_099.jpg\n",
            "Processed: cat_100.jpg\n",
            "All 100 cat images downloaded and resized.\n"
          ]
        }
      ]
    }
  ]
}